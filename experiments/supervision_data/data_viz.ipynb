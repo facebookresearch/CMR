{
 "cells": [
  {
   "cell_type": "code",
   "execution_count": 15,
   "metadata": {},
   "outputs": [],
   "source": [
    "import pickle\n",
    "\n",
    "\n",
    "data1 = pickle.load(open(\"1006v3_dm_simple/dm.29-5.pkl\", \"rb\"))\n",
    "data2 = pickle.load(open(\"1006v3_dm_simple/dm.29-6.pkl\", \"rb\"))\n",
    "\n"
   ]
  },
  {
   "cell_type": "code",
   "execution_count": 3,
   "metadata": {},
   "outputs": [
    {
     "ename": "NameError",
     "evalue": "name 'data1' is not defined",
     "output_type": "error",
     "traceback": [
      "\u001b[0;31m---------------------------------------------------------------------------\u001b[0m",
      "\u001b[0;31mNameError\u001b[0m                                 Traceback (most recent call last)",
      "\u001b[0;32m<ipython-input-3-44196fdc35a7>\u001b[0m in \u001b[0;36m<module>\u001b[0;34m\u001b[0m\n\u001b[1;32m     11\u001b[0m \u001b[0;34m\u001b[0m\u001b[0m\n\u001b[1;32m     12\u001b[0m \u001b[0;34m\u001b[0m\u001b[0m\n\u001b[0;32m---> 13\u001b[0;31m \u001b[0mget_jaccard_sim\u001b[0m\u001b[0;34m(\u001b[0m\u001b[0mdata1\u001b[0m\u001b[0;34m,\u001b[0m \u001b[0mdata2\u001b[0m\u001b[0;34m,\u001b[0m \u001b[0;34m\"query\"\u001b[0m\u001b[0;34m)\u001b[0m\u001b[0;34m\u001b[0m\u001b[0;34m\u001b[0m\u001b[0m\n\u001b[0m\u001b[1;32m     14\u001b[0m \u001b[0mget_jaccard_sim\u001b[0m\u001b[0;34m(\u001b[0m\u001b[0mdata1\u001b[0m\u001b[0;34m,\u001b[0m \u001b[0mdata2\u001b[0m\u001b[0;34m,\u001b[0m \u001b[0;34m\"positive\"\u001b[0m\u001b[0;34m)\u001b[0m\u001b[0;34m\u001b[0m\u001b[0;34m\u001b[0m\u001b[0m\n\u001b[1;32m     15\u001b[0m \u001b[0mget_jaccard_sim\u001b[0m\u001b[0;34m(\u001b[0m\u001b[0mdata1\u001b[0m\u001b[0;34m,\u001b[0m \u001b[0mdata2\u001b[0m\u001b[0;34m,\u001b[0m \u001b[0;34m\"negative\"\u001b[0m\u001b[0;34m)\u001b[0m\u001b[0;34m\u001b[0m\u001b[0;34m\u001b[0m\u001b[0m\n",
      "\u001b[0;31mNameError\u001b[0m: name 'data1' is not defined"
     ]
    }
   ],
   "source": [
    "def get_all_keys(data, key=\"query\"):\n",
    "    keys = []\n",
    "    for i in range(len(data)):\n",
    "        keys += list(data[i][key].keys())\n",
    "    return keys \n",
    "\n",
    "def get_jaccard_sim(data1, data2, key=\"query\"):\n",
    "    all_keys_1 = get_all_keys(data1, key=key)\n",
    "    all_keys_2 = get_all_keys(data2, key=key) \n",
    "    print(len(set(all_keys_1).intersection(set(all_keys_2)))/len(all_keys_1))\n",
    "\n",
    "\n",
    "get_jaccard_sim(data1, data2, \"query\")\n",
    "get_jaccard_sim(data1, data2, \"positive\")\n",
    "get_jaccard_sim(data1, data2, \"negative\")"
   ]
  },
  {
   "cell_type": "code",
   "execution_count": 8,
   "metadata": {},
   "outputs": [
    {
     "name": "stderr",
     "output_type": "stream",
     "text": [
      "loading pkl files:   0%|          | 0/10 [00:00<?, ?it/s]"
     ]
    },
    {
     "name": "stdout",
     "output_type": "stream",
     "text": [
      "Loading ['1009_dm_simple/dm.25-1.pkl', '1009_dm_simple/dm.26-2.pkl', '1009_dm_simple/dm.15-2.pkl', '1009_dm_simple/dm.18-1.pkl', '1009_dm_simple/dm.31-1.pkl', '1009_dm_simple/dm.23-3.pkl', '1009_dm_simple/dm.24-2.pkl', '1009_dm_simple/dm.22-3.pkl', '1009_dm_simple/dm.16-1.pkl', '1009_dm_simple/dm.21-1.pkl']\n"
     ]
    },
    {
     "name": "stderr",
     "output_type": "stream",
     "text": [
      "loading pkl files: 100%|██████████| 10/10 [00:33<00:00,  3.35s/it]\n"
     ]
    }
   ],
   "source": [
    "import random\n",
    "from tqdm import tqdm\n",
    "import glob\n",
    "import os \n",
    "import pickle \n",
    "\n",
    "def load_distant_supervision(folder_name, sample_size=1, logger=None, specified_names=None): \n",
    "    pkl_files = glob.glob(os.path.join(folder_name, '*.pkl'))[:]\n",
    "    if specified_names:\n",
    "        pkl_files = [p for p in pkl_files if p.split(\"/\")[-1].replace(\".pkl\", \"\") in specified_names]\n",
    "    else:\n",
    "        if sample_size > 0:\n",
    "            pkl_files = random.choices(pkl_files, k=sample_size)\n",
    "    ds_items = []\n",
    "    print(f\"Loading {pkl_files}\")\n",
    "    for pkl_path in tqdm(pkl_files, desc=\"loading pkl files\"):\n",
    "        with open(pkl_path, \"rb\") as f:\n",
    "            ds_items += pickle.load(f) \n",
    "\n",
    "    return ds_items \n",
    "all_data = load_distant_supervision(\"1009_dm_simple/\", sample_size=10, )\n"
   ]
  },
  {
   "cell_type": "code",
   "execution_count": 9,
   "metadata": {},
   "outputs": [
    {
     "name": "stdout",
     "output_type": "stream",
     "text": [
      "16000\n",
      "9267\n"
     ]
    }
   ],
   "source": [
    "print(len(get_all_keys(all_data)))\n",
    "print(len(set(get_all_keys(all_data))))"
   ]
  },
  {
   "cell_type": "code",
   "execution_count": 14,
   "metadata": {},
   "outputs": [
    {
     "name": "stdout",
     "output_type": "stream",
     "text": [
      "['mrqa_naturalquestions-train-28422', 'mrqa_naturalquestions-train-47578', 'mrqa_naturalquestions-train-34427', 'mrqa_naturalquestions-train-7543', 'mrqa_naturalquestions-train-13887']\n"
     ]
    }
   ],
   "source": [
    "all_keys = get_all_keys(all_data)\n",
    "import collections\n",
    "dup_keys = [item for item, count in collections.Counter(all_keys).items() if count >= 3]\n",
    "\n",
    "print(dup_keys[:5])\n"
   ]
  },
  {
   "cell_type": "code",
   "execution_count": 16,
   "metadata": {},
   "outputs": [
    {
     "name": "stdout",
     "output_type": "stream",
     "text": [
      "[-0.039253168, -0.012921589, -0.025256297, 0.009674675, 0.0017790078]\n",
      "[-0.036954604, -0.016569754, -0.015593932, -0.002089492, 0.0026586615]\n",
      "[-0.048295517, -0.021575477, -0.006587246, 0.007681731, -0.0017009784]\n"
     ]
    }
   ],
   "source": [
    "def check_all_vectors(all_data, ex_id, key=\"query\"):\n",
    "    vectors = []\n",
    "    for item in all_data:\n",
    "        if ex_id in item[key]:\n",
    "            vectors.append(item[key][ex_id])\n",
    "    return vectors\n",
    "vectors = check_all_vectors(all_data, \"mrqa_naturalquestions-train-28422\")\n",
    "\n",
    "for v in vectors:\n",
    "    print(v[:10])\n"
   ]
  }
 ],
 "metadata": {
  "interpreter": {
   "hash": "d0fe79caf7a23c945e060d06040de0c70eb13e64884a9d29892620cc57fdafd0"
  },
  "kernelspec": {
   "display_name": "Python 3.6.9 64-bit ('bartqa': conda)",
   "name": "python3"
  },
  "language_info": {
   "codemirror_mode": {
    "name": "ipython",
    "version": 3
   },
   "file_extension": ".py",
   "mimetype": "text/x-python",
   "name": "python",
   "nbconvert_exporter": "python",
   "pygments_lexer": "ipython3",
   "version": "3.6.9"
  },
  "orig_nbformat": 4
 },
 "nbformat": 4,
 "nbformat_minor": 2
}
