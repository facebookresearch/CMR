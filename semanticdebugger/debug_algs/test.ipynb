{
 "metadata": {
  "language_info": {
   "codemirror_mode": {
    "name": "ipython",
    "version": 3
   },
   "file_extension": ".py",
   "mimetype": "text/x-python",
   "name": "python",
   "nbconvert_exporter": "python",
   "pygments_lexer": "ipython3",
   "version": "3.6.9"
  },
  "orig_nbformat": 4,
  "kernelspec": {
   "name": "python3",
   "display_name": "Python 3.6.9 64-bit ('bartqa')"
  },
  "interpreter": {
   "hash": "a31940e7d0393159838385c3712cfadaceac21173388543945df311f3c452078"
  }
 },
 "nbformat": 4,
 "nbformat_minor": 2,
 "cells": [
  {
   "cell_type": "code",
   "execution_count": 2,
   "metadata": {},
   "outputs": [],
   "source": [
    "import transformers\n",
    "memory_key_encoder = \"facebook/bart-base\"\n",
    "tokenizer = transformers.BartTokenizer.from_pretrained(memory_key_encoder)\n",
    "key_encoder = transformers.BartModel.from_pretrained(memory_key_encoder)"
   ]
  },
  {
   "cell_type": "code",
   "execution_count": 11,
   "metadata": {},
   "outputs": [],
   "source": [
    "inputs = tokenizer.batch_encode_plus([\"hello world\", \"hello world\",\"hello world\"], return_tensors=\"pt\")\n"
   ]
  },
  {
   "cell_type": "code",
   "execution_count": 16,
   "metadata": {},
   "outputs": [],
   "source": [
    "last_hidden_states, _ = key_encoder(**inputs)"
   ]
  },
  {
   "cell_type": "code",
   "execution_count": 18,
   "metadata": {},
   "outputs": [
    {
     "output_type": "execute_result",
     "data": {
      "text/plain": [
       "tensor([[ 2.7333,  2.5802,  0.6592,  ...,  1.0472, -0.3869, -0.2812],\n",
       "        [ 2.7333,  2.5802,  0.6592,  ...,  1.0472, -0.3869, -0.2812],\n",
       "        [ 2.7333,  2.5802,  0.6592,  ...,  1.0472, -0.3869, -0.2812]],\n",
       "       grad_fn=<SliceBackward>)"
      ]
     },
     "metadata": {},
     "execution_count": 18
    }
   ],
   "source": [
    "last_hidden_states[:, 0, :]"
   ]
  },
  {
   "cell_type": "code",
   "execution_count": 3,
   "metadata": {},
   "outputs": [],
   "source": [
    "import numpy as np\n",
    "import pickle\n",
    "\n",
    "with open(\"/private/home/yuchenlin/SemanticDebugger/bug_data/output/nq_dev_0714_mbpapp_rsz32_rf30_3e-5_e5_ckpts/memory_dict.pkl\", \"rb\") as f:\n",
    "    memory = pickle.load(f)"
   ]
  },
  {
   "cell_type": "code",
   "execution_count": 14,
   "metadata": {},
   "outputs": [],
   "source": [
    "total_keys = len(memory.keys())\n",
    "all_keys = np.frombuffer(np.asarray(list(memory.keys())), dtype=np.float32).reshape(total_keys, -1)"
   ]
  },
  {
   "cell_type": "code",
   "execution_count": 17,
   "metadata": {},
   "outputs": [
    {
     "output_type": "execute_result",
     "data": {
      "text/plain": [
       "(954, 768)"
      ]
     },
     "metadata": {},
     "execution_count": 17
    }
   ],
   "source": [
    "all_keys.shape"
   ]
  }
 ]
}