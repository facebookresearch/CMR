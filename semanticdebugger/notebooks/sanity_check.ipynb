{
 "cells": [
  {
   "cell_type": "code",
   "execution_count": 10,
   "metadata": {},
   "outputs": [],
   "source": [
    "import pickle\n",
    "import os\n",
    "os.chdir(\"/private/home/yuchenlin/SemanticDebugger\")\n",
    "from semanticdebugger.debug_algs.index_based import biencoder\n",
    "import logging"
   ]
  },
  {
   "cell_type": "code",
   "execution_count": 8,
   "metadata": {},
   "outputs": [],
   "source": [
    "def get_all_keys(data, key=\"query\"):\n",
    "    keys = []\n",
    "    for i in range(len(data)):\n",
    "        keys += list(data[i][key].keys())\n",
    "    return keys \n",
    "\n",
    "def get_jaccard_sim(data1, data2, key=\"query\"):\n",
    "    all_keys_1 = get_all_keys(data1, key=key)\n",
    "    all_keys_2 = get_all_keys(data2, key=key) \n",
    "    print(len(set(all_keys_1).intersection(set(all_keys_2)))/len(all_keys_1))\n",
    "\n"
   ]
  },
  {
   "cell_type": "code",
   "execution_count": 11,
   "metadata": {},
   "outputs": [
    {
     "name": "stderr",
     "output_type": "stream",
     "text": [
      "10/19/2021 15:33:37 - INFO - __main__ - Loading ['exp_results/supervision_data/1019_same_mean_dm_simple/dm.15-0.pkl', 'exp_results/supervision_data/1019_same_mean_dm_simple/dm.7-0.pkl', 'exp_results/supervision_data/1019_same_mean_dm_simple/dm.5-0.pkl', 'exp_results/supervision_data/1019_same_mean_dm_simple/dm.14-0.pkl', 'exp_results/supervision_data/1019_same_mean_dm_simple/dm.15-0.pkl', 'exp_results/supervision_data/1019_same_mean_dm_simple/dm.6-0.pkl', 'exp_results/supervision_data/1019_same_mean_dm_simple/dm.9-0.pkl', 'exp_results/supervision_data/1019_same_mean_dm_simple/dm.30-0.pkl', 'exp_results/supervision_data/1019_same_mean_dm_simple/dm.16-0.pkl', 'exp_results/supervision_data/1019_same_mean_dm_simple/dm.9-0.pkl']\n",
      "loading pkl files: 100%|██████████| 10/10 [00:08<00:00,  1.25it/s]\n"
     ]
    }
   ],
   "source": [
    "biencoder_args = biencoder.get_parser().parse_args(\"\")\n",
    "\n",
    "logging.basicConfig(format='%(asctime)s - %(levelname)s - %(name)s - %(message)s',\n",
    "                    datefmt='%m/%d/%Y %H:%M:%S',\n",
    "                    level=logging.INFO)\n",
    "logger = logging.getLogger(__name__)\n",
    "train_data, train_files = biencoder.load_distant_supervision(\n",
    "            biencoder_args.ds_dir_path, sample_size=biencoder_args.num_ds_train_file, logger=logger, train_args=biencoder_args)"
   ]
  },
  {
   "cell_type": "code",
   "execution_count": 22,
   "metadata": {},
   "outputs": [
    {
     "name": "stderr",
     "output_type": "stream",
     "text": [
      "10/19/2021 15:37:20 - INFO - __main__ - Loading []\n",
      "loading pkl files: 0it [00:00, ?it/s]\n",
      "10/19/2021 15:37:20 - INFO - __main__ - Loading []\n",
      "loading pkl files: 0it [00:00, ?it/s]\n"
     ]
    }
   ],
   "source": [
    "data_1 = biencoder.load_distant_supervision(\n",
    "            biencoder_args.ds_dir_path, sample_size=biencoder_args.num_ds_train_file, logger=logger, train_args=biencoder_args, specified_names=[\"dm.0-0.pkl\"])\n",
    "data_2 = biencoder.load_distant_supervision(\n",
    "            biencoder_args.ds_dir_path, sample_size=biencoder_args.num_ds_train_file, logger=logger, train_args=biencoder_args, specified_names=[\"dm.0-0.pkl\"])\n"
   ]
  },
  {
   "cell_type": "code",
   "execution_count": 21,
   "metadata": {},
   "outputs": [
    {
     "ename": "TypeError",
     "evalue": "list indices must be integers or slices, not str",
     "output_type": "error",
     "traceback": [
      "\u001b[0;31m---------------------------------------------------------------------------\u001b[0m",
      "\u001b[0;31mTypeError\u001b[0m                                 Traceback (most recent call last)",
      "\u001b[0;32m<ipython-input-21-43470670c0a7>\u001b[0m in \u001b[0;36m<module>\u001b[0;34m\u001b[0m\n\u001b[0;32m----> 1\u001b[0;31m \u001b[0mset\u001b[0m\u001b[0;34m(\u001b[0m\u001b[0mdata_1\u001b[0m\u001b[0;34m[\u001b[0m\u001b[0;36m0\u001b[0m\u001b[0;34m]\u001b[0m\u001b[0;34m[\u001b[0m\u001b[0;34m\"query\"\u001b[0m\u001b[0;34m]\u001b[0m\u001b[0;34m.\u001b[0m\u001b[0mkeys\u001b[0m\u001b[0;34m(\u001b[0m\u001b[0;34m)\u001b[0m\u001b[0;34m)\u001b[0m \u001b[0;34m&\u001b[0m \u001b[0mset\u001b[0m\u001b[0;34m(\u001b[0m\u001b[0mdata_2\u001b[0m\u001b[0;34m[\u001b[0m\u001b[0;36m0\u001b[0m\u001b[0;34m]\u001b[0m\u001b[0;34m[\u001b[0m\u001b[0;34m\"query\"\u001b[0m\u001b[0;34m]\u001b[0m\u001b[0;34m.\u001b[0m\u001b[0mkeys\u001b[0m\u001b[0;34m(\u001b[0m\u001b[0;34m)\u001b[0m\u001b[0;34m)\u001b[0m\u001b[0;34m\u001b[0m\u001b[0;34m\u001b[0m\u001b[0m\n\u001b[0m",
      "\u001b[0;31mTypeError\u001b[0m: list indices must be integers or slices, not str"
     ]
    }
   ],
   "source": [
    "# set(data_1[0][\"query\"].keys()) & set(data_2[0][\"query\"].keys())"
   ]
  }
 ],
 "metadata": {
  "interpreter": {
   "hash": "d0fe79caf7a23c945e060d06040de0c70eb13e64884a9d29892620cc57fdafd0"
  },
  "kernelspec": {
   "display_name": "Python 3.6.9 64-bit ('bartqa': conda)",
   "name": "python3"
  },
  "language_info": {
   "codemirror_mode": {
    "name": "ipython",
    "version": 3
   },
   "file_extension": ".py",
   "mimetype": "text/x-python",
   "name": "python",
   "nbconvert_exporter": "python",
   "pygments_lexer": "ipython3",
   "version": "3.6.9"
  },
  "orig_nbformat": 4
 },
 "nbformat": 4,
 "nbformat_minor": 2
}
