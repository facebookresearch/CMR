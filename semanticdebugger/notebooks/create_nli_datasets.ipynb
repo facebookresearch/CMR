{
 "cells": [
  {
   "cell_type": "code",
   "execution_count": 35,
   "metadata": {},
   "outputs": [
    {
     "name": "stderr",
     "output_type": "stream",
     "text": [
      "Reusing dataset glue (/private/home/yuchenlin/.cache/huggingface/datasets/glue/qnli/1.0.0/dacbe3125aa31d7f70367a07a8a9e72a5a0bfeb5fc42e75c9db75b96da6053ad)\n"
     ]
    },
    {
     "name": "stdout",
     "output_type": "stream",
     "text": [
      "dict_keys(['train', 'validation', 'test'])\n",
      "{'idx': 0, 'label': 1, 'question': 'When did the third Digimon series begin?', 'sentence': 'Unlike the two seasons before it and most of the seasons that followed, Digimon Tamers takes a darker and more realistic approach to its story featuring Digimon who do not reincarnate after their deaths and more complex character development in the original Japanese.'}\n",
      "{'idx': 3, 'label': 0, 'question': 'What is the name of the village 9 miles north of Calafat where the Ottoman forces attacked the Russians?', 'sentence': 'On 31 December 1853, the Ottoman forces at Calafat moved against the Russian force at Chetatea or Cetate, a small village nine miles north of Calafat, and engaged them on 6 January 1854.'}\n"
     ]
    }
   ],
   "source": [
    "from datasets import load_dataset\n",
    "dataset = load_dataset(\"glue\", \"qnli\")\n",
    "print(dataset.keys())\n",
    "print(dataset[\"train\"][0])\n",
    "print(dataset[\"train\"][3])\n",
    "# print(set([dataset[\"train\"][i][\"label\"] for i in range(10000)]))\n",
    "\n",
    "\n"
   ]
  },
  {
   "cell_type": "markdown",
   "metadata": {},
   "source": []
  },
  {
   "cell_type": "code",
   "execution_count": 16,
   "metadata": {},
   "outputs": [
    {
     "name": "stdout",
     "output_type": "stream",
     "text": [
      "550152\n"
     ]
    }
   ],
   "source": [
    "print(len(dataset[\"train\"]))\n",
    "\n"
   ]
  },
  {
   "cell_type": "code",
   "execution_count": 12,
   "metadata": {},
   "outputs": [
    {
     "name": "stdout",
     "output_type": "stream",
     "text": [
      "dict_keys(['genre', 'hypothesis', 'hypothesis_binary_parse', 'hypothesis_parse', 'label', 'pairID', 'premise', 'premise_binary_parse', 'premise_parse', 'promptID'])\n"
     ]
    }
   ],
   "source": [
    "print(dataset[\"train\"][0].keys())\n",
    "\n"
   ]
  },
  {
   "cell_type": "code",
   "execution_count": 4,
   "metadata": {},
   "outputs": [
    {
     "name": "stdout",
     "output_type": "stream",
     "text": [
      "{'travel', 'fiction', 'slate', 'telephone', 'government'}\n"
     ]
    }
   ],
   "source": [
    "# example = dataset[\"train\"][0]\n",
    "all_genres = [item[\"genre\"] for item in dataset[\"train\"]]\n",
    "print(set(all_genres))"
   ]
  },
  {
   "cell_type": "code",
   "execution_count": 9,
   "metadata": {},
   "outputs": [
    {
     "name": "stdout",
     "output_type": "stream",
     "text": [
      "{'letters', 'oup', 'nineeleven', 'verbatim', 'facetoface'}\n"
     ]
    }
   ],
   "source": [
    "all_genres = [item[\"genre\"] for item in dataset[\"validation_mismatched\"]]\n",
    "print(set(all_genres))"
   ]
  }
 ],
 "metadata": {
  "interpreter": {
   "hash": "d0fe79caf7a23c945e060d06040de0c70eb13e64884a9d29892620cc57fdafd0"
  },
  "kernelspec": {
   "display_name": "Python 3.6.9 64-bit ('bartqa': conda)",
   "language": "python",
   "name": "python3"
  },
  "language_info": {
   "codemirror_mode": {
    "name": "ipython",
    "version": 3
   },
   "file_extension": ".py",
   "mimetype": "text/x-python",
   "name": "python",
   "nbconvert_exporter": "python",
   "pygments_lexer": "ipython3",
   "version": "3.6.9"
  },
  "orig_nbformat": 4
 },
 "nbformat": 4,
 "nbformat_minor": 2
}
