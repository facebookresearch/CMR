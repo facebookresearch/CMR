{
 "cells": [
  {
   "cell_type": "code",
   "execution_count": 1,
   "metadata": {},
   "outputs": [],
   "source": [
    "import pickle\n",
    "import os\n",
    "os.chdir(\"/private/home/yuchenlin/SemanticDebugger\")\n",
    "from semanticdebugger.debug_algs.index_based import biencoder\n",
    "import logging"
   ]
  },
  {
   "cell_type": "code",
   "execution_count": 2,
   "metadata": {},
   "outputs": [],
   "source": [
    "def get_all_keys(data, key=\"query\"):\n",
    "    keys = []\n",
    "    for i in range(len(data)):\n",
    "        keys += list(data[i][key].keys())\n",
    "    return keys \n",
    "\n",
    "def get_jaccard_sim(data1, data2, key=\"query\"):\n",
    "    all_keys_1 = get_all_keys(data1, key=key)\n",
    "    all_keys_2 = get_all_keys(data2, key=key) \n",
    "    print(len(set(all_keys_1).intersection(set(all_keys_2)))/len(all_keys_1))\n",
    "\n"
   ]
  },
  {
   "cell_type": "code",
   "execution_count": 3,
   "metadata": {},
   "outputs": [],
   "source": [
    "biencoder_args = biencoder.get_parser().parse_args(\"\")\n",
    "\n",
    "logging.basicConfig(format='%(asctime)s - %(levelname)s - %(name)s - %(message)s',\n",
    "                    datefmt='%m/%d/%Y %H:%M:%S',\n",
    "                    level=logging.INFO)\n",
    "logger = logging.getLogger(__name__)\n",
    "# train_data, train_files = biencoder.load_distant_supervision(\n",
    "#             biencoder_args.ds_dir_path, sample_size=biencoder_args.num_ds_train_file, logger=logger, train_args=biencoder_args)"
   ]
  },
  {
   "cell_type": "code",
   "execution_count": 4,
   "metadata": {},
   "outputs": [
    {
     "name": "stderr",
     "output_type": "stream",
     "text": [
      "10/20/2021 17:20:35 - INFO - __main__ - Loading ['exp_results/supervision_data/1020v2_dm_simple/dm.19-0.pkl']\n",
      "loading pkl files: 100%|██████████| 1/1 [00:01<00:00,  1.78s/it]\n",
      "10/20/2021 17:20:37 - INFO - __main__ - Loading ['exp_results/supervision_data/1020v2_dm_simple/dm.3-0.pkl']\n",
      "loading pkl files: 100%|██████████| 1/1 [00:01<00:00,  1.51s/it]\n"
     ]
    }
   ],
   "source": [
    "data_1 = biencoder.load_distant_supervision(\n",
    "            biencoder_args.ds_dir_path, sample_size=1, logger=logger, train_args=biencoder_args)\n",
    "data_2 = biencoder.load_distant_supervision(\n",
    "            biencoder_args.ds_dir_path, sample_size=1, logger=logger, train_args=biencoder_args)\n"
   ]
  },
  {
   "cell_type": "code",
   "execution_count": 5,
   "metadata": {},
   "outputs": [
    {
     "data": {
      "text/plain": [
       "'mrqa_squad-validation-5086'"
      ]
     },
     "execution_count": 5,
     "metadata": {},
     "output_type": "execute_result"
    }
   ],
   "source": [
    "data_1_query = get_all_keys(data_1[0], key=\"query\") \n",
    "data_2_query = get_all_keys(data_2[0], key=\"query\") \n",
    "list(set(data_1_query) & set(data_2_query))[0]"
   ]
  },
  {
   "cell_type": "code",
   "execution_count": 19,
   "metadata": {},
   "outputs": [
    {
     "name": "stdout",
     "output_type": "stream",
     "text": [
      "[ 0.05633075 -0.01672616 -0.0287548  ...  0.80115205  0.07987558\n",
      "  0.14681737]\n",
      "[ 0.02250055 -0.00732967 -0.05745824 ...  0.7472708  -0.05816428\n",
      " -0.1036949 ]\n",
      "[ 0.05633075 -0.01672616 -0.0287548  ...  0.8011519   0.0798756\n",
      "  0.14681733]\n",
      "[ 0.04712407 -0.0427018  -0.01448484 ...  0.719277   -0.20175\n",
      "  0.27730066]\n",
      "(2, 3072)\n"
     ]
    },
    {
     "data": {
      "text/plain": [
       "array([ 0.05633075, -0.01672616, -0.0287548 , ...,  0.7332739 ,\n",
       "       -0.12995714,  0.08680288], dtype=float32)"
      ]
     },
     "execution_count": 19,
     "metadata": {},
     "output_type": "execute_result"
    }
   ],
   "source": [
    "def get_vector(data, key, ex_id):\n",
    "    for item in data:\n",
    "        if ex_id in item[key]:\n",
    "            return item[key][ex_id]\n",
    "    return None\n",
    "\n",
    "import numpy as np \n",
    "# print(len(np.array(get_vector(data_1[0], key=\"query\", ex_id=\"mrqa_triviaqa-validation-914\"))))\n",
    "q1 = np.array(get_vector(data_1[0], key=\"query\", ex_id=\"mrqa_squad-validation-5086\"))\n",
    "q2 = np.array(get_vector(data_2[0], key=\"query\", ex_id=\"mrqa_squad-validation-5086\"))\n",
    "\n",
    "print(q1[:1536])\n",
    "print(q1[1536:]) \n",
    "print(q2[:1536])\n",
    "print(q2[1536:])\n",
    "\n",
    "q = np.concatenate(([q1],[q2]), axis=0)\n",
    "print(q.shape)\n",
    "np.mean(q, axis=0)\n"
   ]
  }
 ],
 "metadata": {
  "interpreter": {
   "hash": "d0fe79caf7a23c945e060d06040de0c70eb13e64884a9d29892620cc57fdafd0"
  },
  "kernelspec": {
   "display_name": "Python 3.6.9 64-bit ('bartqa': conda)",
   "name": "python3"
  },
  "language_info": {
   "codemirror_mode": {
    "name": "ipython",
    "version": 3
   },
   "file_extension": ".py",
   "mimetype": "text/x-python",
   "name": "python",
   "nbconvert_exporter": "python",
   "pygments_lexer": "ipython3",
   "version": "3.6.9"
  },
  "orig_nbformat": 4
 },
 "nbformat": 4,
 "nbformat_minor": 2
}
