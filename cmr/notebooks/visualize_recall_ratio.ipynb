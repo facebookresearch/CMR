{
 "cells": [
  {
   "cell_type": "code",
   "execution_count": 1,
   "metadata": {},
   "outputs": [
    {
     "name": "stdout",
     "output_type": "stream",
     "text": [
      "exp_results/dynamic_stream/memory_based/results/1014_MixedAllErrors_T=100_er_M=U+I_rs=32_rq=3_seed=42_result.json\n",
      "exp_results/dynamic_stream/memory_based/results/1014_MixedAllErrors_T=100_mir_M=U+I_rs=32_rq=3_candidate=256_mode=none_seed=42_result.json\n",
      "exp_results/dynamic_stream/index_based/results/1001v2_MixedAllErrors_T=100_index_M=U+I_rs=32_rq=3_rank=most_similar_mir=no(0)_seed=42_result.json\n"
     ]
    },
    {
     "data": {
      "text/html": [
       "\n",
       "<div id=\"altair-viz-64aea0ff201f4b2c97c3ed8a2dcedfca\"></div>\n",
       "<script type=\"text/javascript\">\n",
       "  (function(spec, embedOpt){\n",
       "    let outputDiv = document.currentScript.previousElementSibling;\n",
       "    if (outputDiv.id !== \"altair-viz-64aea0ff201f4b2c97c3ed8a2dcedfca\") {\n",
       "      outputDiv = document.getElementById(\"altair-viz-64aea0ff201f4b2c97c3ed8a2dcedfca\");\n",
       "    }\n",
       "    const paths = {\n",
       "      \"vega\": \"https://cdn.jsdelivr.net/npm//vega@5?noext\",\n",
       "      \"vega-lib\": \"https://cdn.jsdelivr.net/npm//vega-lib?noext\",\n",
       "      \"vega-lite\": \"https://cdn.jsdelivr.net/npm//vega-lite@4.8.1?noext\",\n",
       "      \"vega-embed\": \"https://cdn.jsdelivr.net/npm//vega-embed@6?noext\",\n",
       "    };\n",
       "\n",
       "    function loadScript(lib) {\n",
       "      return new Promise(function(resolve, reject) {\n",
       "        var s = document.createElement('script');\n",
       "        s.src = paths[lib];\n",
       "        s.async = true;\n",
       "        s.onload = () => resolve(paths[lib]);\n",
       "        s.onerror = () => reject(`Error loading script: ${paths[lib]}`);\n",
       "        document.getElementsByTagName(\"head\")[0].appendChild(s);\n",
       "      });\n",
       "    }\n",
       "\n",
       "    function showError(err) {\n",
       "      outputDiv.innerHTML = `<div class=\"error\" style=\"color:red;\">${err}</div>`;\n",
       "      throw err;\n",
       "    }\n",
       "\n",
       "    function displayChart(vegaEmbed) {\n",
       "      vegaEmbed(outputDiv, spec, embedOpt)\n",
       "        .catch(err => showError(`Javascript Error: ${err.message}<br>This usually means there's a typo in your chart specification. See the javascript console for the full traceback.`));\n",
       "    }\n",
       "\n",
       "    if(typeof define === \"function\" && define.amd) {\n",
       "      requirejs.config({paths});\n",
       "      require([\"vega-embed\"], displayChart, err => showError(`Error loading script: ${err.message}`));\n",
       "    } else if (typeof vegaEmbed === \"function\") {\n",
       "      displayChart(vegaEmbed);\n",
       "    } else {\n",
       "      loadScript(\"vega\")\n",
       "        .then(() => loadScript(\"vega-lite\"))\n",
       "        .then(() => loadScript(\"vega-embed\"))\n",
       "        .catch(showError)\n",
       "        .then(() => displayChart(vegaEmbed));\n",
       "    }\n",
       "  })({\"config\": {\"view\": {\"continuousWidth\": 400, \"continuousHeight\": 300}, \"axis\": {\"labelFontSize\": 18, \"titleFontSize\": 16}, \"legend\": {\"cornerRadius\": 5, \"fillColor\": \"#EEEEEE\", \"labelFontSize\": 15, \"orient\": \"bottom-right\", \"padding\": 10, \"strokeColor\": \"gray\", \"titleFontSize\": 0}, \"title\": {\"align\": \"center\", \"anchor\": \"middle\", \"color\": \"black\", \"font\": \"Courier\", \"fontSize\": 20, \"orient\": \"top\"}}, \"layer\": [{\"mark\": {\"type\": \"line\", \"opacity\": 0.7, \"point\": true}, \"encoding\": {\"color\": {\"type\": \"nominal\", \"field\": \"prefix\"}, \"x\": {\"type\": \"ordinal\", \"field\": \"timecode\", \"title\": \"Timecode\"}, \"y\": {\"type\": \"quantitative\", \"field\": \"online_ratio\", \"scale\": {\"domain\": [0.0, 1]}, \"stack\": null, \"title\": \"EM\"}}, \"title\": \"online_ratio\"}], \"data\": {\"name\": \"data-7ecd1c203808eadd2ac60d4449f46564\"}, \"height\": 800, \"resolve\": {\"scale\": {}}, \"width\": 1100, \"$schema\": \"https://vega.github.io/schema/vega-lite/v4.8.1.json\", \"datasets\": {\"data-7ecd1c203808eadd2ac60d4449f46564\": [{\"prefix\": \"ER-T100-F3 (42)\", \"timecode\": 3, \"upstream_ratio\": 1.0, \"online_ratio\": 0.0}, {\"prefix\": \"ER-T100-F3 (42)\", \"timecode\": 6, \"upstream_ratio\": 0.96875, \"online_ratio\": 0.03125}, {\"prefix\": \"ER-T100-F3 (42)\", \"timecode\": 9, \"upstream_ratio\": 0.96875, \"online_ratio\": 0.03125}, {\"prefix\": \"ER-T100-F3 (42)\", \"timecode\": 12, \"upstream_ratio\": 1.0, \"online_ratio\": 0.0}, {\"prefix\": \"ER-T100-F3 (42)\", \"timecode\": 15, \"upstream_ratio\": 1.0, \"online_ratio\": 0.0}, {\"prefix\": \"ER-T100-F3 (42)\", \"timecode\": 18, \"upstream_ratio\": 0.96875, \"online_ratio\": 0.03125}, {\"prefix\": \"ER-T100-F3 (42)\", \"timecode\": 21, \"upstream_ratio\": 0.90625, \"online_ratio\": 0.09375}, {\"prefix\": \"ER-T100-F3 (42)\", \"timecode\": 24, \"upstream_ratio\": 0.90625, \"online_ratio\": 0.09375}, {\"prefix\": \"ER-T100-F3 (42)\", \"timecode\": 27, \"upstream_ratio\": 0.9375, \"online_ratio\": 0.0625}, {\"prefix\": \"ER-T100-F3 (42)\", \"timecode\": 30, \"upstream_ratio\": 0.9375, \"online_ratio\": 0.0625}, {\"prefix\": \"ER-T100-F3 (42)\", \"timecode\": 33, \"upstream_ratio\": 0.96875, \"online_ratio\": 0.03125}, {\"prefix\": \"ER-T100-F3 (42)\", \"timecode\": 36, \"upstream_ratio\": 0.9375, \"online_ratio\": 0.0625}, {\"prefix\": \"ER-T100-F3 (42)\", \"timecode\": 39, \"upstream_ratio\": 0.875, \"online_ratio\": 0.125}, {\"prefix\": \"ER-T100-F3 (42)\", \"timecode\": 42, \"upstream_ratio\": 0.9375, \"online_ratio\": 0.0625}, {\"prefix\": \"ER-T100-F3 (42)\", \"timecode\": 45, \"upstream_ratio\": 0.84375, \"online_ratio\": 0.15625}, {\"prefix\": \"ER-T100-F3 (42)\", \"timecode\": 48, \"upstream_ratio\": 0.90625, \"online_ratio\": 0.09375}, {\"prefix\": \"ER-T100-F3 (42)\", \"timecode\": 51, \"upstream_ratio\": 0.875, \"online_ratio\": 0.125}, {\"prefix\": \"ER-T100-F3 (42)\", \"timecode\": 54, \"upstream_ratio\": 0.8125, \"online_ratio\": 0.1875}, {\"prefix\": \"ER-T100-F3 (42)\", \"timecode\": 57, \"upstream_ratio\": 0.9375, \"online_ratio\": 0.0625}, {\"prefix\": \"ER-T100-F3 (42)\", \"timecode\": 60, \"upstream_ratio\": 0.875, \"online_ratio\": 0.125}, {\"prefix\": \"ER-T100-F3 (42)\", \"timecode\": 63, \"upstream_ratio\": 0.78125, \"online_ratio\": 0.21875}, {\"prefix\": \"ER-T100-F3 (42)\", \"timecode\": 66, \"upstream_ratio\": 0.84375, \"online_ratio\": 0.15625}, {\"prefix\": \"ER-T100-F3 (42)\", \"timecode\": 69, \"upstream_ratio\": 0.78125, \"online_ratio\": 0.21875}, {\"prefix\": \"ER-T100-F3 (42)\", \"timecode\": 72, \"upstream_ratio\": 0.8125, \"online_ratio\": 0.1875}, {\"prefix\": \"ER-T100-F3 (42)\", \"timecode\": 75, \"upstream_ratio\": 0.8125, \"online_ratio\": 0.1875}, {\"prefix\": \"ER-T100-F3 (42)\", \"timecode\": 78, \"upstream_ratio\": 0.75, \"online_ratio\": 0.25}, {\"prefix\": \"ER-T100-F3 (42)\", \"timecode\": 81, \"upstream_ratio\": 0.84375, \"online_ratio\": 0.15625}, {\"prefix\": \"ER-T100-F3 (42)\", \"timecode\": 84, \"upstream_ratio\": 0.875, \"online_ratio\": 0.125}, {\"prefix\": \"ER-T100-F3 (42)\", \"timecode\": 87, \"upstream_ratio\": 0.8125, \"online_ratio\": 0.1875}, {\"prefix\": \"ER-T100-F3 (42)\", \"timecode\": 90, \"upstream_ratio\": 0.875, \"online_ratio\": 0.125}, {\"prefix\": \"ER-T100-F3 (42)\", \"timecode\": 93, \"upstream_ratio\": 0.8125, \"online_ratio\": 0.1875}, {\"prefix\": \"ER-T100-F3 (42)\", \"timecode\": 96, \"upstream_ratio\": 0.75, \"online_ratio\": 0.25}, {\"prefix\": \"ER-T100-F3 (42)\", \"timecode\": 99, \"upstream_ratio\": 0.75, \"online_ratio\": 0.25}, {\"prefix\": \"MIR-C256-T100-F3 (42)\", \"timecode\": 3, \"upstream_ratio\": 1.0, \"online_ratio\": 0.0}, {\"prefix\": \"MIR-C256-T100-F3 (42)\", \"timecode\": 6, \"upstream_ratio\": 0.96875, \"online_ratio\": 0.03125}, {\"prefix\": \"MIR-C256-T100-F3 (42)\", \"timecode\": 9, \"upstream_ratio\": 1.0, \"online_ratio\": 0.0}, {\"prefix\": \"MIR-C256-T100-F3 (42)\", \"timecode\": 12, \"upstream_ratio\": 0.875, \"online_ratio\": 0.125}, {\"prefix\": \"MIR-C256-T100-F3 (42)\", \"timecode\": 15, \"upstream_ratio\": 0.90625, \"online_ratio\": 0.09375}, {\"prefix\": \"MIR-C256-T100-F3 (42)\", \"timecode\": 18, \"upstream_ratio\": 1.0, \"online_ratio\": 0.0}, {\"prefix\": \"MIR-C256-T100-F3 (42)\", \"timecode\": 21, \"upstream_ratio\": 0.96875, \"online_ratio\": 0.03125}, {\"prefix\": \"MIR-C256-T100-F3 (42)\", \"timecode\": 24, \"upstream_ratio\": 0.90625, \"online_ratio\": 0.09375}, {\"prefix\": \"MIR-C256-T100-F3 (42)\", \"timecode\": 27, \"upstream_ratio\": 0.84375, \"online_ratio\": 0.15625}, {\"prefix\": \"MIR-C256-T100-F3 (42)\", \"timecode\": 30, \"upstream_ratio\": 0.96875, \"online_ratio\": 0.03125}, {\"prefix\": \"MIR-C256-T100-F3 (42)\", \"timecode\": 33, \"upstream_ratio\": 0.84375, \"online_ratio\": 0.15625}, {\"prefix\": \"MIR-C256-T100-F3 (42)\", \"timecode\": 36, \"upstream_ratio\": 0.9375, \"online_ratio\": 0.0625}, {\"prefix\": \"MIR-C256-T100-F3 (42)\", \"timecode\": 39, \"upstream_ratio\": 0.8125, \"online_ratio\": 0.1875}, {\"prefix\": \"MIR-C256-T100-F3 (42)\", \"timecode\": 42, \"upstream_ratio\": 0.875, \"online_ratio\": 0.125}, {\"prefix\": \"MIR-C256-T100-F3 (42)\", \"timecode\": 45, \"upstream_ratio\": 0.75, \"online_ratio\": 0.25}, {\"prefix\": \"MIR-C256-T100-F3 (42)\", \"timecode\": 48, \"upstream_ratio\": 0.84375, \"online_ratio\": 0.15625}, {\"prefix\": \"MIR-C256-T100-F3 (42)\", \"timecode\": 51, \"upstream_ratio\": 0.84375, \"online_ratio\": 0.15625}, {\"prefix\": \"MIR-C256-T100-F3 (42)\", \"timecode\": 54, \"upstream_ratio\": 0.875, \"online_ratio\": 0.125}, {\"prefix\": \"MIR-C256-T100-F3 (42)\", \"timecode\": 57, \"upstream_ratio\": 0.90625, \"online_ratio\": 0.09375}, {\"prefix\": \"MIR-C256-T100-F3 (42)\", \"timecode\": 60, \"upstream_ratio\": 0.90625, \"online_ratio\": 0.09375}, {\"prefix\": \"MIR-C256-T100-F3 (42)\", \"timecode\": 63, \"upstream_ratio\": 0.75, \"online_ratio\": 0.25}, {\"prefix\": \"MIR-C256-T100-F3 (42)\", \"timecode\": 66, \"upstream_ratio\": 0.8125, \"online_ratio\": 0.1875}, {\"prefix\": \"MIR-C256-T100-F3 (42)\", \"timecode\": 69, \"upstream_ratio\": 0.71875, \"online_ratio\": 0.28125}, {\"prefix\": \"MIR-C256-T100-F3 (42)\", \"timecode\": 72, \"upstream_ratio\": 0.8125, \"online_ratio\": 0.1875}, {\"prefix\": \"MIR-C256-T100-F3 (42)\", \"timecode\": 75, \"upstream_ratio\": 0.65625, \"online_ratio\": 0.34375}, {\"prefix\": \"MIR-C256-T100-F3 (42)\", \"timecode\": 78, \"upstream_ratio\": 0.65625, \"online_ratio\": 0.34375}, {\"prefix\": \"MIR-C256-T100-F3 (42)\", \"timecode\": 81, \"upstream_ratio\": 0.71875, \"online_ratio\": 0.28125}, {\"prefix\": \"MIR-C256-T100-F3 (42)\", \"timecode\": 84, \"upstream_ratio\": 0.625, \"online_ratio\": 0.375}, {\"prefix\": \"MIR-C256-T100-F3 (42)\", \"timecode\": 87, \"upstream_ratio\": 0.75, \"online_ratio\": 0.25}, {\"prefix\": \"MIR-C256-T100-F3 (42)\", \"timecode\": 90, \"upstream_ratio\": 0.6875, \"online_ratio\": 0.3125}, {\"prefix\": \"MIR-C256-T100-F3 (42)\", \"timecode\": 93, \"upstream_ratio\": 0.75, \"online_ratio\": 0.25}, {\"prefix\": \"MIR-C256-T100-F3 (42)\", \"timecode\": 96, \"upstream_ratio\": 0.84375, \"online_ratio\": 0.15625}, {\"prefix\": \"MIR-C256-T100-F3 (42)\", \"timecode\": 99, \"upstream_ratio\": 0.40625, \"online_ratio\": 0.59375}, {\"prefix\": \"BiEncoder (42)\", \"timecode\": 3, \"upstream_ratio\": 0.8333333333333334, \"online_ratio\": 0.16666666666666663}, {\"prefix\": \"BiEncoder (42)\", \"timecode\": 6, \"upstream_ratio\": 0.967741935483871, \"online_ratio\": 0.032258064516129004}, {\"prefix\": \"BiEncoder (42)\", \"timecode\": 9, \"upstream_ratio\": 0.84375, \"online_ratio\": 0.15625}, {\"prefix\": \"BiEncoder (42)\", \"timecode\": 12, \"upstream_ratio\": 0.8387096774193549, \"online_ratio\": 0.16129032258064513}, {\"prefix\": \"BiEncoder (42)\", \"timecode\": 15, \"upstream_ratio\": 0.8125, \"online_ratio\": 0.1875}, {\"prefix\": \"BiEncoder (42)\", \"timecode\": 18, \"upstream_ratio\": 0.8387096774193549, \"online_ratio\": 0.16129032258064513}, {\"prefix\": \"BiEncoder (42)\", \"timecode\": 21, \"upstream_ratio\": 0.875, \"online_ratio\": 0.125}, {\"prefix\": \"BiEncoder (42)\", \"timecode\": 24, \"upstream_ratio\": 0.9032258064516129, \"online_ratio\": 0.09677419354838712}, {\"prefix\": \"BiEncoder (42)\", \"timecode\": 27, \"upstream_ratio\": 0.6451612903225806, \"online_ratio\": 0.3548387096774194}, {\"prefix\": \"BiEncoder (42)\", \"timecode\": 30, \"upstream_ratio\": 0.65625, \"online_ratio\": 0.34375}, {\"prefix\": \"BiEncoder (42)\", \"timecode\": 33, \"upstream_ratio\": 0.7741935483870968, \"online_ratio\": 0.22580645161290325}, {\"prefix\": \"BiEncoder (42)\", \"timecode\": 36, \"upstream_ratio\": 0.7741935483870968, \"online_ratio\": 0.22580645161290325}, {\"prefix\": \"BiEncoder (42)\", \"timecode\": 39, \"upstream_ratio\": 0.625, \"online_ratio\": 0.375}, {\"prefix\": \"BiEncoder (42)\", \"timecode\": 42, \"upstream_ratio\": 0.6774193548387096, \"online_ratio\": 0.32258064516129037}, {\"prefix\": \"BiEncoder (42)\", \"timecode\": 45, \"upstream_ratio\": 0.8125, \"online_ratio\": 0.1875}, {\"prefix\": \"BiEncoder (42)\", \"timecode\": 48, \"upstream_ratio\": 0.7, \"online_ratio\": 0.30000000000000004}, {\"prefix\": \"BiEncoder (42)\", \"timecode\": 51, \"upstream_ratio\": 0.8125, \"online_ratio\": 0.1875}, {\"prefix\": \"BiEncoder (42)\", \"timecode\": 54, \"upstream_ratio\": 0.6774193548387096, \"online_ratio\": 0.32258064516129037}, {\"prefix\": \"BiEncoder (42)\", \"timecode\": 57, \"upstream_ratio\": 0.5625, \"online_ratio\": 0.4375}, {\"prefix\": \"BiEncoder (42)\", \"timecode\": 60, \"upstream_ratio\": 0.8125, \"online_ratio\": 0.1875}, {\"prefix\": \"BiEncoder (42)\", \"timecode\": 63, \"upstream_ratio\": 0.4666666666666667, \"online_ratio\": 0.5333333333333333}, {\"prefix\": \"BiEncoder (42)\", \"timecode\": 66, \"upstream_ratio\": 0.46875, \"online_ratio\": 0.53125}, {\"prefix\": \"BiEncoder (42)\", \"timecode\": 69, \"upstream_ratio\": 0.84375, \"online_ratio\": 0.15625}, {\"prefix\": \"BiEncoder (42)\", \"timecode\": 72, \"upstream_ratio\": 0.6774193548387096, \"online_ratio\": 0.32258064516129037}, {\"prefix\": \"BiEncoder (42)\", \"timecode\": 75, \"upstream_ratio\": 0.6875, \"online_ratio\": 0.3125}, {\"prefix\": \"BiEncoder (42)\", \"timecode\": 78, \"upstream_ratio\": 0.5625, \"online_ratio\": 0.4375}, {\"prefix\": \"BiEncoder (42)\", \"timecode\": 81, \"upstream_ratio\": 0.625, \"online_ratio\": 0.375}, {\"prefix\": \"BiEncoder (42)\", \"timecode\": 84, \"upstream_ratio\": 0.6875, \"online_ratio\": 0.3125}, {\"prefix\": \"BiEncoder (42)\", \"timecode\": 87, \"upstream_ratio\": 0.625, \"online_ratio\": 0.375}, {\"prefix\": \"BiEncoder (42)\", \"timecode\": 90, \"upstream_ratio\": 0.5806451612903226, \"online_ratio\": 0.4193548387096774}, {\"prefix\": \"BiEncoder (42)\", \"timecode\": 93, \"upstream_ratio\": 0.59375, \"online_ratio\": 0.40625}, {\"prefix\": \"BiEncoder (42)\", \"timecode\": 96, \"upstream_ratio\": 0.65625, \"online_ratio\": 0.34375}, {\"prefix\": \"BiEncoder (42)\", \"timecode\": 99, \"upstream_ratio\": 0.65625, \"online_ratio\": 0.34375}]}}, {\"mode\": \"vega-lite\"});\n",
       "</script>"
      ],
      "text/plain": [
       "alt.LayerChart(...)"
      ]
     },
     "execution_count": 1,
     "metadata": {},
     "output_type": "execute_result"
    }
   ],
   "source": [
    "import os\n",
    "os.chdir(\"/private/home/yuchenlin/SemanticDebugger\")\n",
    "\n",
    "import json \n",
    "import altair as alt \n",
    "import warnings\n",
    "import pandas\n",
    "warnings.filterwarnings('ignore')\n",
    "\n",
    "upstream_ex_ids = set()\n",
    "\n",
    "def show_memory_ratio(path, prefix, ): \n",
    "    print(path)\n",
    "    if len(upstream_ex_ids) == 0:\n",
    "        with open(\"exp_results/data_streams/mrqa.nq_train.memory.jsonl\") as f:\n",
    "            lines = f.read().splitlines()\n",
    "            for line in lines:\n",
    "                item = json.loads(line)\n",
    "                upstream_ex_ids.add(item[\"id\"]) \n",
    "\n",
    "    data = json.load(open(path)) \n",
    "    ratios = []\n",
    "    for time_item in  data[\"online_eval_results\"]:\n",
    "        if \"retrieved_ids\" in time_item:\n",
    "            retrieved_ids = set(time_item[\"retrieved_ids\"])\n",
    "            upstream_ratio = len(retrieved_ids.intersection(upstream_ex_ids)) / len(retrieved_ids)\n",
    "            ratios.append({\"prefix\":prefix, \"timecode\": time_item[\"timecode\"], \"upstream_ratio\": upstream_ratio, \"online_ratio\": 1-upstream_ratio})\n",
    "    # print(ratios)\n",
    "    return ratios\n",
    "\n",
    "\n",
    "\n",
    "def draw_curve(df, y_scale=[0, 1], fig_title=\"\", y_title=\"EM\", y_key=\"em:Q\", height=800):\n",
    "    x = alt.X(\"timecode\", type=\"ordinal\", title=\"Timecode\")\n",
    "    # y_em = alt.Y(\"em\", type=\"quantitative\", title=\"EM\", scale=alt.Scale(domain=[0.5, 1.0]))\n",
    "    # em_line = alt.Chart(df).mark_line(interpolate='natural', point=True).encode(x=x, y=y_em, opacity=alt.value(0.8), color=alt.value('red'))\n",
    "    # scale = alt.Scale(domain=list(set(df[\"prefix\"])), range=['red', 'orange', 'purple', 'blue', 'green'])\n",
    "    # color=alt.Color('prefix:N', scale=scale)\n",
    "\n",
    "    color=alt.Color('prefix:N') \n",
    "    \n",
    "    # fig = alt.Chart(reformatted_data).mark_area(opacity=0.6).encode(x=\"timecode:O\", y=alt.Y(\"em:Q\", stack=None, title=\"EM\"), color=color)\n",
    "    \n",
    "    # fig = alt.Chart(df).mark_line(opacity=0.7, interpolate=\"natural\", point=True).encode(x=x, y=alt.Y(\"em:Q\", stack=None, title=\"EM\", scale=alt.Scale(domain=[0.4, 1])), color=color).properties(title=\"Knowledge Retain in EM acc. (forgetting measure) \")\n",
    "  \n",
    "    fig = alt.Chart(df).mark_line(opacity=0.7,  point=True).encode(x=x, y=alt.Y(y_key, stack=None, title=y_title, scale=alt.Scale(domain=y_scale)), color=color).properties(title=fig_title)\n",
    "\n",
    "    fig = alt.layer(fig).resolve_scale()\n",
    "    fig = fig.properties(width=1100, height=height).configure_axis(\n",
    "        labelFontSize=18,\n",
    "        titleFontSize=16, \n",
    "    ).configure_legend(titleFontSize=0, labelFontSize=15, orient='bottom-right', strokeColor='gray',\n",
    "        fillColor='#EEEEEE',\n",
    "        padding=10,\n",
    "        cornerRadius=5,).configure_title(\n",
    "        fontSize=20,\n",
    "        font='Courier',\n",
    "        anchor='middle',\n",
    "        orient=\"top\", align=\"center\",\n",
    "        color='black'\n",
    "    )\n",
    "    return fig\n",
    "\n",
    "\n",
    "ratios = []\n",
    "for seed in [\"42\"]:\n",
    "    ratios += show_memory_ratio(f\"exp_results/dynamic_stream/memory_based/results/1014_MixedAllErrors_T=100_er_M=U+I_rs=32_rq=3_seed={seed}_result.json\", f\"ER-T100-F3 ({seed})\",)\n",
    "    ratios += show_memory_ratio(f\"exp_results/dynamic_stream/memory_based/results/1014_MixedAllErrors_T=100_mir_M=U+I_rs=32_rq=3_candidate=256_mode=none_seed={seed}_result.json\", f\"MIR-C256-T100-F3 ({seed})\",)\n",
    "    ratios += show_memory_ratio(f\"exp_results/dynamic_stream/index_based/results/1001v2_MixedAllErrors_T=100_index_M=U+I_rs=32_rq=3_rank=most_similar_mir=no(0)_seed={seed}_result.json\", f\"BiEncoder ({seed})\",)\n",
    "\n",
    "\n",
    "ratios = pandas.DataFrame(ratios)\n",
    "\n",
    "draw_curve(df=ratios, fig_title=\"online_ratio\", y_scale=[0., 1], y_key=\"online_ratio\")\n",
    "\n",
    "# .save('figures/cf_kr_curve.png')"
   ]
  },
  {
   "cell_type": "code",
   "execution_count": 2,
   "metadata": {},
   "outputs": [
    {
     "name": "stdout",
     "output_type": "stream",
     "text": [
      "/private/home/yuchenlin/SemanticDebugger/semanticdebugger/notebooks\n"
     ]
    }
   ],
   "source": [
    "! pwd"
   ]
  }
 ],
 "metadata": {
  "interpreter": {
   "hash": "d0fe79caf7a23c945e060d06040de0c70eb13e64884a9d29892620cc57fdafd0"
  },
  "kernelspec": {
   "display_name": "Python 3.6.9 64-bit ('bartqa': conda)",
   "name": "python3"
  },
  "language_info": {
   "codemirror_mode": {
    "name": "ipython",
    "version": 3
   },
   "file_extension": ".py",
   "mimetype": "text/x-python",
   "name": "python",
   "nbconvert_exporter": "python",
   "pygments_lexer": "ipython3",
   "version": "3.6.9"
  },
  "orig_nbformat": 4
 },
 "nbformat": 4,
 "nbformat_minor": 2
}
